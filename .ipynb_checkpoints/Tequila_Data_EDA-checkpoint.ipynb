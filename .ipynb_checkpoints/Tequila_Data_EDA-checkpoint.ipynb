{
 "cells": [
  {
   "cell_type": "code",
   "execution_count": 26,
   "metadata": {},
   "outputs": [],
   "source": [
    "import pandas as pd\n",
    "import numpy as np\n",
    "\n",
    "#Loading the tequila data from the Excel file into the Jupyter Notebook\n",
    "tequila_df = pd.read_excel('Tequila_Data_2021_2022_2023_RAW.xlsx')\n",
    "\n"
   ]
  },
  {
   "cell_type": "markdown",
   "metadata": {},
   "source": [
    "#### Step 1 - Get the overall lay of the land of the dataset. Finding its shape to know how many rows and columns there are. "
   ]
  },
  {
   "cell_type": "code",
   "execution_count": 27,
   "metadata": {},
   "outputs": [
    {
     "name": "stdout",
     "output_type": "stream",
     "text": [
      "(10152, 22)\n"
     ]
    }
   ],
   "source": [
    "#Finding the shape of the dataframe\n",
    "shape_tequila_df = tequila_df.shape\n",
    "print(shape_tequila_df)\n",
    "#tequila_df has 10152 rows, 22 columns"
   ]
  },
  {
   "cell_type": "code",
   "execution_count": null,
   "metadata": {},
   "outputs": [],
   "source": [
    "#A version of the tequila_df to keep up as a reference\n",
    "tequila_df.head(25)"
   ]
  },
  {
   "cell_type": "code",
   "execution_count": 67,
   "metadata": {},
   "outputs": [
    {
     "data": {
      "text/plain": [
       "SKU                                          object\n",
       "Country                                      object\n",
       "State/Province/Market                        object\n",
       "Year                                          int64\n",
       "Month                                        object\n",
       "Date                                 datetime64[ns]\n",
       "Market Manager                               object\n",
       "Cost of Goods Sold                          float64\n",
       "Sell Price                                    int64\n",
       "Profit                                      float64\n",
       "Profit Margin                               float64\n",
       "Sales (4.5 L Cases)                         float64\n",
       "Revenue                                     float64\n",
       "Profit of Sales                             float64\n",
       "Accounts Sold                               float64\n",
       "Monthly Rate of Sales per Account           float64\n",
       "Tequila Tastings                              int64\n",
       "Distributor Size                             object\n",
       "Market Type                                  object\n",
       "Brand Ambassador Hired                       object\n",
       "Number of Brand Ambassadors                   int64\n",
       "Top 10 Tequila Market                        object\n",
       "dtype: object"
      ]
     },
     "execution_count": 67,
     "metadata": {},
     "output_type": "execute_result"
    }
   ],
   "source": [
    "# Checking out the Data Type of all the columns\n",
    "tequila_df.dtypes\n",
    "#I'm not sure we need the columns for Year, Month, and Date"
   ]
  },
  {
   "cell_type": "markdown",
   "metadata": {},
   "source": [
    "#### Step 2 - Finding Missing Data"
   ]
  },
  {
   "cell_type": "code",
   "execution_count": null,
   "metadata": {},
   "outputs": [],
   "source": [
    "#Finding the number of missing values in each column and the percentage of missing values they contribute to\n",
    "\n",
    "#Making a table to show which columns may need to be dropped and which columns may need filling out\n",
    "#Finding missing values\n",
    "total_missing_values = tequila_df.isnull().sum().sort_values(ascending=False)\n",
    "#Finding the percent of missing values in each column\n",
    "percent_missing_values = 100*((tequila_df.isnull().sum())/(tequila_df.isnull().count())).round(2).sort_values(ascending=False)\n",
    "#Making a table of all the two for readability\n",
    "missing_data = pd.concat([total_missing_values, percent_missing_values], axis=1, keys=['Total Missing', 'Percent Missing'])\n",
    "missing_data\n",
    "\n",
    "#Consider dropping Monthly Rate of Sales per Account and Accounts Sold columns since both are 84% NaN"
   ]
  },
  {
   "cell_type": "code",
   "execution_count": 211,
   "metadata": {},
   "outputs": [],
   "source": [
    "def percentage_missing(df, column_name):\n",
    "    \"\"\"\n",
    "    Calculates the percentage of missing values in a specific column of a DataFrame.\n",
    "    \n",
    "    Parameters:\n",
    "    - df: Pandas DataFrame.\n",
    "    - column_name: The name of the column to check for missing values.\n",
    "    \n",
    "    Returns:\n",
    "    The percentage of missing values in the column.\n",
    "    \"\"\"\n",
    "    total_rows = len(df)\n",
    "    missing_count = df[column_name].isna().sum()\n",
    "    missing_percentage = (missing_count / total_rows) * 100\n",
    "    return missing_percentage.round(2)"
   ]
  },
  {
   "cell_type": "markdown",
   "metadata": {},
   "source": [
    "#### Step 3 - Finding Duplicates\n"
   ]
  },
  {
   "cell_type": "code",
   "execution_count": 60,
   "metadata": {},
   "outputs": [
    {
     "data": {
      "text/plain": [
       "False    10152\n",
       "Name: count, dtype: int64"
      ]
     },
     "execution_count": 60,
     "metadata": {},
     "output_type": "execute_result"
    }
   ],
   "source": [
    "duplicates_tequila_df = tequila_df.duplicated().value_counts()\n",
    "duplicates_tequila_df\n",
    "# No identical duplicates were found in the dataframe "
   ]
  },
  {
   "cell_type": "code",
   "execution_count": 65,
   "metadata": {},
   "outputs": [
    {
     "data": {
      "text/plain": [
       "False    10152\n",
       "Name: count, dtype: int64"
      ]
     },
     "execution_count": 65,
     "metadata": {},
     "output_type": "execute_result"
    }
   ],
   "source": [
    "other_duplicates_tequila_df = tequila_df.duplicated(subset=['SKU', 'Country', 'State/Province/Market', \n",
    "                                                    'Year', 'Month', 'Date', 'Market Manager'],\n",
    "                                                    keep=False)\n",
    "other_duplicates_tequila_df.value_counts()\n",
    "#Confirms there are no duplicates in the important labelled columns in the dataframe"
   ]
  },
  {
   "cell_type": "markdown",
   "metadata": {},
   "source": [
    "### Step 4 - Dealing with Missing Data discovered in Step 2"
   ]
  },
  {
   "cell_type": "markdown",
   "metadata": {},
   "source": [
    "##### Step 4A - Market Manager Column"
   ]
  },
  {
   "cell_type": "code",
   "execution_count": 31,
   "metadata": {},
   "outputs": [
    {
     "data": {
      "text/plain": [
       "count      8856\n",
       "unique        4\n",
       "top       Tammy\n",
       "freq       3456\n",
       "Name: Market Manager, dtype: object"
      ]
     },
     "execution_count": 31,
     "metadata": {},
     "output_type": "execute_result"
    }
   ],
   "source": [
    "#Getting some details about the column\n",
    "tequila_df['Market Manager'].describe()"
   ]
  },
  {
   "cell_type": "code",
   "execution_count": 48,
   "metadata": {},
   "outputs": [
    {
     "data": {
      "text/plain": [
       "(1296, 22)"
      ]
     },
     "execution_count": 48,
     "metadata": {},
     "output_type": "execute_result"
    }
   ],
   "source": [
    "#Explore the dataframe where 'Market Managers' is null\n",
    "market_manager_null = tequila_df[tequila_df['Market Manager'].isna()]\n",
    "market_manager_null.shape #1296 rows where the manager is NaN"
   ]
  },
  {
   "cell_type": "code",
   "execution_count": 70,
   "metadata": {},
   "outputs": [
    {
     "name": "stdout",
     "output_type": "stream",
     "text": [
      "Country\n",
      "Australia    216\n",
      "Carribean    216\n",
      "India        216\n",
      "Indonesia    216\n",
      "Ireland      216\n",
      "Thailand     216\n",
      "Name: count, dtype: int64\n",
      "State/Province/Market\n",
      "Australia             216\n",
      "Carribean Airlines    216\n",
      "India                 216\n",
      "Indonesia             216\n",
      "Ireland               216\n",
      "Thailand              216\n",
      "Name: count, dtype: int64\n"
     ]
    }
   ],
   "source": [
    "country_count = market_manager_null['Country'].value_counts()\n",
    "print(country_count)\n",
    "market_details = market_manager_null['State/Province/Market'].value_counts()\n",
    "print(market_details)"
   ]
  },
  {
   "cell_type": "code",
   "execution_count": 74,
   "metadata": {},
   "outputs": [],
   "source": [
    "clean_tequila_df = tequila_df.copy()\n",
    "\n",
    "#Filling the NaNs in the Market Manager column with 'No Manager'\n",
    "clean_tequila_df['Market Manager'].fillna(value='No Manager', axis=0, inplace=True)\n",
    "\n"
   ]
  },
  {
   "cell_type": "code",
   "execution_count": null,
   "metadata": {},
   "outputs": [],
   "source": [
    "#Sanity check to make sure they changed\n",
    "clean_tequila_df.isnull().sum().sort_values(ascending=False)"
   ]
  },
  {
   "cell_type": "markdown",
   "metadata": {},
   "source": [
    "##### Step 4B - Market Type Column"
   ]
  },
  {
   "cell_type": "code",
   "execution_count": 125,
   "metadata": {},
   "outputs": [],
   "source": [
    "tequila_df['Market Type'].describe()\n",
    "tequila_df['Market Type'].value_counts() # Free Market = 4536, Controlled Market = 4320\n",
    "\n",
    "#Filling the NaNs of Market Type with 'Unknown'\n",
    "clean_tequila_df['Market Type'].fillna(value='Unknown', axis=0, inplace=True)\n",
    "#Keeping it unknown because it appears to be the same chunck of data that deals with the markets outside of North America. \n",
    "# I think its better to keep it in the data than remove it for the moment. "
   ]
  },
  {
   "cell_type": "code",
   "execution_count": null,
   "metadata": {},
   "outputs": [],
   "source": [
    "#Sanity check to make sure they changed\n",
    "clean_tequila_df.isnull().sum().sort_values(ascending=False)"
   ]
  },
  {
   "cell_type": "markdown",
   "metadata": {},
   "source": [
    "##### Step 4C - Distributor Size"
   ]
  },
  {
   "cell_type": "code",
   "execution_count": 139,
   "metadata": {},
   "outputs": [],
   "source": [
    "# Filling the NaNs in the Distributor Size with Unknown\n",
    "clean_tequila_df['Distributor Size'].fillna(value='Unknown', axis=0, inplace=True)\n"
   ]
  },
  {
   "cell_type": "markdown",
   "metadata": {},
   "source": [
    "##### Step 4D - Accounts Sold and Monthly Rate of Sales "
   ]
  },
  {
   "cell_type": "markdown",
   "metadata": {},
   "source": [
    "After a team discussion, we have decided to keep Nulls in the entries as we do not want to throw off any of the numbers that we do have"
   ]
  },
  {
   "cell_type": "markdown",
   "metadata": {},
   "source": [
    "##### Step 4E - Dropping Unncessary Columns"
   ]
  },
  {
   "cell_type": "code",
   "execution_count": 145,
   "metadata": {},
   "outputs": [],
   "source": [
    "#We have a Year, Month, and Date column, We'll keep just the date column\n",
    "clean_tequila_df.drop(columns=['Year', 'Month'], inplace = True)"
   ]
  },
  {
   "cell_type": "markdown",
   "metadata": {},
   "source": [
    "##### Step 4F - Changing Column Names or Data Types if Necessary"
   ]
  },
  {
   "cell_type": "code",
   "execution_count": null,
   "metadata": {},
   "outputs": [],
   "source": [
    "#Conveting the Date column from datetime to date datatype\n",
    "clean_tequila_df['Date'] = clean_tequila_df['Date'].dt.date"
   ]
  },
  {
   "cell_type": "code",
   "execution_count": 219,
   "metadata": {},
   "outputs": [],
   "source": [
    "clean_tequila_df.rename(columns={'Monthly Rate of Sales per Account': 'Monthly Rate of Sales'}, inplace=True)"
   ]
  },
  {
   "cell_type": "code",
   "execution_count": 182,
   "metadata": {},
   "outputs": [
    {
     "data": {
      "text/html": [
       "<div>\n",
       "<style scoped>\n",
       "    .dataframe tbody tr th:only-of-type {\n",
       "        vertical-align: middle;\n",
       "    }\n",
       "\n",
       "    .dataframe tbody tr th {\n",
       "        vertical-align: top;\n",
       "    }\n",
       "\n",
       "    .dataframe thead th {\n",
       "        text-align: right;\n",
       "    }\n",
       "</style>\n",
       "<table border=\"1\" class=\"dataframe\">\n",
       "  <thead>\n",
       "    <tr style=\"text-align: right;\">\n",
       "      <th></th>\n",
       "      <th>Unnamed: 0</th>\n",
       "      <th>SKU</th>\n",
       "      <th>Country</th>\n",
       "      <th>State/Province/Market</th>\n",
       "      <th>Date</th>\n",
       "      <th>Market Manager</th>\n",
       "      <th>Cost of Goods Sold</th>\n",
       "      <th>Sell Price</th>\n",
       "      <th>Profit</th>\n",
       "      <th>Profit Margin</th>\n",
       "      <th>...</th>\n",
       "      <th>Revenue</th>\n",
       "      <th>Profit of Sales</th>\n",
       "      <th>Accounts Sold</th>\n",
       "      <th>Monthly Rate of Sales per Account</th>\n",
       "      <th>Tequila Tastings</th>\n",
       "      <th>Distributor Size</th>\n",
       "      <th>Market Type</th>\n",
       "      <th>Brand Ambassador Hired</th>\n",
       "      <th>Number of Brand Ambassadors</th>\n",
       "      <th>Top 10 Tequila Market</th>\n",
       "    </tr>\n",
       "  </thead>\n",
       "  <tbody>\n",
       "    <tr>\n",
       "      <th>0</th>\n",
       "      <td>0</td>\n",
       "      <td>Tequila Plata</td>\n",
       "      <td>United States</td>\n",
       "      <td>Alabama</td>\n",
       "      <td>2021-01-01</td>\n",
       "      <td>Tammy</td>\n",
       "      <td>62.24</td>\n",
       "      <td>110</td>\n",
       "      <td>47.76</td>\n",
       "      <td>0.565818</td>\n",
       "      <td>...</td>\n",
       "      <td>0.0</td>\n",
       "      <td>0.0</td>\n",
       "      <td>NaN</td>\n",
       "      <td>NaN</td>\n",
       "      <td>0</td>\n",
       "      <td>Large</td>\n",
       "      <td>Controlled Market</td>\n",
       "      <td>No</td>\n",
       "      <td>0</td>\n",
       "      <td>No</td>\n",
       "    </tr>\n",
       "    <tr>\n",
       "      <th>1</th>\n",
       "      <td>1</td>\n",
       "      <td>Tequila Plata</td>\n",
       "      <td>United States</td>\n",
       "      <td>Alabama</td>\n",
       "      <td>2021-02-01</td>\n",
       "      <td>Tammy</td>\n",
       "      <td>62.24</td>\n",
       "      <td>110</td>\n",
       "      <td>47.76</td>\n",
       "      <td>0.565818</td>\n",
       "      <td>...</td>\n",
       "      <td>0.0</td>\n",
       "      <td>0.0</td>\n",
       "      <td>NaN</td>\n",
       "      <td>NaN</td>\n",
       "      <td>0</td>\n",
       "      <td>Large</td>\n",
       "      <td>Controlled Market</td>\n",
       "      <td>No</td>\n",
       "      <td>0</td>\n",
       "      <td>No</td>\n",
       "    </tr>\n",
       "    <tr>\n",
       "      <th>2</th>\n",
       "      <td>2</td>\n",
       "      <td>Tequila Plata</td>\n",
       "      <td>United States</td>\n",
       "      <td>Alabama</td>\n",
       "      <td>2021-03-01</td>\n",
       "      <td>Tammy</td>\n",
       "      <td>62.24</td>\n",
       "      <td>110</td>\n",
       "      <td>47.76</td>\n",
       "      <td>0.565818</td>\n",
       "      <td>...</td>\n",
       "      <td>0.0</td>\n",
       "      <td>0.0</td>\n",
       "      <td>NaN</td>\n",
       "      <td>NaN</td>\n",
       "      <td>0</td>\n",
       "      <td>Large</td>\n",
       "      <td>Controlled Market</td>\n",
       "      <td>No</td>\n",
       "      <td>0</td>\n",
       "      <td>No</td>\n",
       "    </tr>\n",
       "    <tr>\n",
       "      <th>3</th>\n",
       "      <td>3</td>\n",
       "      <td>Tequila Plata</td>\n",
       "      <td>United States</td>\n",
       "      <td>Alabama</td>\n",
       "      <td>2021-04-01</td>\n",
       "      <td>Tammy</td>\n",
       "      <td>62.24</td>\n",
       "      <td>110</td>\n",
       "      <td>47.76</td>\n",
       "      <td>0.565818</td>\n",
       "      <td>...</td>\n",
       "      <td>0.0</td>\n",
       "      <td>0.0</td>\n",
       "      <td>NaN</td>\n",
       "      <td>NaN</td>\n",
       "      <td>0</td>\n",
       "      <td>Large</td>\n",
       "      <td>Controlled Market</td>\n",
       "      <td>No</td>\n",
       "      <td>0</td>\n",
       "      <td>No</td>\n",
       "    </tr>\n",
       "    <tr>\n",
       "      <th>4</th>\n",
       "      <td>4</td>\n",
       "      <td>Tequila Plata</td>\n",
       "      <td>United States</td>\n",
       "      <td>Alabama</td>\n",
       "      <td>2021-05-01</td>\n",
       "      <td>Tammy</td>\n",
       "      <td>62.24</td>\n",
       "      <td>110</td>\n",
       "      <td>47.76</td>\n",
       "      <td>0.565818</td>\n",
       "      <td>...</td>\n",
       "      <td>0.0</td>\n",
       "      <td>0.0</td>\n",
       "      <td>NaN</td>\n",
       "      <td>NaN</td>\n",
       "      <td>0</td>\n",
       "      <td>Large</td>\n",
       "      <td>Controlled Market</td>\n",
       "      <td>No</td>\n",
       "      <td>0</td>\n",
       "      <td>No</td>\n",
       "    </tr>\n",
       "    <tr>\n",
       "      <th>...</th>\n",
       "      <td>...</td>\n",
       "      <td>...</td>\n",
       "      <td>...</td>\n",
       "      <td>...</td>\n",
       "      <td>...</td>\n",
       "      <td>...</td>\n",
       "      <td>...</td>\n",
       "      <td>...</td>\n",
       "      <td>...</td>\n",
       "      <td>...</td>\n",
       "      <td>...</td>\n",
       "      <td>...</td>\n",
       "      <td>...</td>\n",
       "      <td>...</td>\n",
       "      <td>...</td>\n",
       "      <td>...</td>\n",
       "      <td>...</td>\n",
       "      <td>...</td>\n",
       "      <td>...</td>\n",
       "      <td>...</td>\n",
       "      <td>...</td>\n",
       "    </tr>\n",
       "    <tr>\n",
       "      <th>10147</th>\n",
       "      <td>10147</td>\n",
       "      <td>Tequila Vivo</td>\n",
       "      <td>Thailand</td>\n",
       "      <td>Thailand</td>\n",
       "      <td>2023-08-01</td>\n",
       "      <td>No Manager</td>\n",
       "      <td>110.32</td>\n",
       "      <td>419</td>\n",
       "      <td>308.68</td>\n",
       "      <td>0.263294</td>\n",
       "      <td>...</td>\n",
       "      <td>0.0</td>\n",
       "      <td>0.0</td>\n",
       "      <td>NaN</td>\n",
       "      <td>NaN</td>\n",
       "      <td>0</td>\n",
       "      <td>Unknown</td>\n",
       "      <td>Unknown</td>\n",
       "      <td>No</td>\n",
       "      <td>0</td>\n",
       "      <td>No</td>\n",
       "    </tr>\n",
       "    <tr>\n",
       "      <th>10148</th>\n",
       "      <td>10148</td>\n",
       "      <td>Tequila Vivo</td>\n",
       "      <td>Thailand</td>\n",
       "      <td>Thailand</td>\n",
       "      <td>2023-09-01</td>\n",
       "      <td>No Manager</td>\n",
       "      <td>110.32</td>\n",
       "      <td>419</td>\n",
       "      <td>308.68</td>\n",
       "      <td>0.263294</td>\n",
       "      <td>...</td>\n",
       "      <td>0.0</td>\n",
       "      <td>0.0</td>\n",
       "      <td>NaN</td>\n",
       "      <td>NaN</td>\n",
       "      <td>0</td>\n",
       "      <td>Unknown</td>\n",
       "      <td>Unknown</td>\n",
       "      <td>No</td>\n",
       "      <td>0</td>\n",
       "      <td>No</td>\n",
       "    </tr>\n",
       "    <tr>\n",
       "      <th>10149</th>\n",
       "      <td>10149</td>\n",
       "      <td>Tequila Vivo</td>\n",
       "      <td>Thailand</td>\n",
       "      <td>Thailand</td>\n",
       "      <td>2023-10-01</td>\n",
       "      <td>No Manager</td>\n",
       "      <td>110.32</td>\n",
       "      <td>419</td>\n",
       "      <td>308.68</td>\n",
       "      <td>0.263294</td>\n",
       "      <td>...</td>\n",
       "      <td>0.0</td>\n",
       "      <td>0.0</td>\n",
       "      <td>NaN</td>\n",
       "      <td>NaN</td>\n",
       "      <td>0</td>\n",
       "      <td>Unknown</td>\n",
       "      <td>Unknown</td>\n",
       "      <td>No</td>\n",
       "      <td>0</td>\n",
       "      <td>No</td>\n",
       "    </tr>\n",
       "    <tr>\n",
       "      <th>10150</th>\n",
       "      <td>10150</td>\n",
       "      <td>Tequila Vivo</td>\n",
       "      <td>Thailand</td>\n",
       "      <td>Thailand</td>\n",
       "      <td>2023-11-01</td>\n",
       "      <td>No Manager</td>\n",
       "      <td>110.32</td>\n",
       "      <td>419</td>\n",
       "      <td>308.68</td>\n",
       "      <td>0.263294</td>\n",
       "      <td>...</td>\n",
       "      <td>0.0</td>\n",
       "      <td>0.0</td>\n",
       "      <td>NaN</td>\n",
       "      <td>NaN</td>\n",
       "      <td>0</td>\n",
       "      <td>Unknown</td>\n",
       "      <td>Unknown</td>\n",
       "      <td>No</td>\n",
       "      <td>0</td>\n",
       "      <td>No</td>\n",
       "    </tr>\n",
       "    <tr>\n",
       "      <th>10151</th>\n",
       "      <td>10151</td>\n",
       "      <td>Tequila Vivo</td>\n",
       "      <td>Thailand</td>\n",
       "      <td>Thailand</td>\n",
       "      <td>2023-12-01</td>\n",
       "      <td>No Manager</td>\n",
       "      <td>110.32</td>\n",
       "      <td>419</td>\n",
       "      <td>308.68</td>\n",
       "      <td>0.263294</td>\n",
       "      <td>...</td>\n",
       "      <td>0.0</td>\n",
       "      <td>0.0</td>\n",
       "      <td>NaN</td>\n",
       "      <td>NaN</td>\n",
       "      <td>0</td>\n",
       "      <td>Unknown</td>\n",
       "      <td>Unknown</td>\n",
       "      <td>No</td>\n",
       "      <td>0</td>\n",
       "      <td>No</td>\n",
       "    </tr>\n",
       "  </tbody>\n",
       "</table>\n",
       "<p>10152 rows × 21 columns</p>\n",
       "</div>"
      ],
      "text/plain": [
       "       Unnamed: 0            SKU        Country State/Province/Market  \\\n",
       "0               0  Tequila Plata  United States               Alabama   \n",
       "1               1  Tequila Plata  United States               Alabama   \n",
       "2               2  Tequila Plata  United States               Alabama   \n",
       "3               3  Tequila Plata  United States               Alabama   \n",
       "4               4  Tequila Plata  United States               Alabama   \n",
       "...           ...            ...            ...                   ...   \n",
       "10147       10147   Tequila Vivo       Thailand              Thailand   \n",
       "10148       10148   Tequila Vivo       Thailand              Thailand   \n",
       "10149       10149   Tequila Vivo       Thailand              Thailand   \n",
       "10150       10150   Tequila Vivo       Thailand              Thailand   \n",
       "10151       10151   Tequila Vivo       Thailand              Thailand   \n",
       "\n",
       "             Date Market Manager  Cost of Goods Sold  Sell Price  Profit  \\\n",
       "0      2021-01-01          Tammy               62.24         110   47.76   \n",
       "1      2021-02-01          Tammy               62.24         110   47.76   \n",
       "2      2021-03-01          Tammy               62.24         110   47.76   \n",
       "3      2021-04-01          Tammy               62.24         110   47.76   \n",
       "4      2021-05-01          Tammy               62.24         110   47.76   \n",
       "...           ...            ...                 ...         ...     ...   \n",
       "10147  2023-08-01     No Manager              110.32         419  308.68   \n",
       "10148  2023-09-01     No Manager              110.32         419  308.68   \n",
       "10149  2023-10-01     No Manager              110.32         419  308.68   \n",
       "10150  2023-11-01     No Manager              110.32         419  308.68   \n",
       "10151  2023-12-01     No Manager              110.32         419  308.68   \n",
       "\n",
       "       Profit Margin  ...  Revenue  Profit of Sales  Accounts Sold  \\\n",
       "0           0.565818  ...      0.0              0.0            NaN   \n",
       "1           0.565818  ...      0.0              0.0            NaN   \n",
       "2           0.565818  ...      0.0              0.0            NaN   \n",
       "3           0.565818  ...      0.0              0.0            NaN   \n",
       "4           0.565818  ...      0.0              0.0            NaN   \n",
       "...              ...  ...      ...              ...            ...   \n",
       "10147       0.263294  ...      0.0              0.0            NaN   \n",
       "10148       0.263294  ...      0.0              0.0            NaN   \n",
       "10149       0.263294  ...      0.0              0.0            NaN   \n",
       "10150       0.263294  ...      0.0              0.0            NaN   \n",
       "10151       0.263294  ...      0.0              0.0            NaN   \n",
       "\n",
       "       Monthly Rate of Sales per Account  Tequila Tastings  Distributor Size  \\\n",
       "0                                    NaN                 0             Large   \n",
       "1                                    NaN                 0             Large   \n",
       "2                                    NaN                 0             Large   \n",
       "3                                    NaN                 0             Large   \n",
       "4                                    NaN                 0             Large   \n",
       "...                                  ...               ...               ...   \n",
       "10147                                NaN                 0           Unknown   \n",
       "10148                                NaN                 0           Unknown   \n",
       "10149                                NaN                 0           Unknown   \n",
       "10150                                NaN                 0           Unknown   \n",
       "10151                                NaN                 0           Unknown   \n",
       "\n",
       "             Market Type Brand Ambassador Hired Number of Brand Ambassadors  \\\n",
       "0      Controlled Market                     No                           0   \n",
       "1      Controlled Market                     No                           0   \n",
       "2      Controlled Market                     No                           0   \n",
       "3      Controlled Market                     No                           0   \n",
       "4      Controlled Market                     No                           0   \n",
       "...                  ...                    ...                         ...   \n",
       "10147            Unknown                     No                           0   \n",
       "10148            Unknown                     No                           0   \n",
       "10149            Unknown                     No                           0   \n",
       "10150            Unknown                     No                           0   \n",
       "10151            Unknown                     No                           0   \n",
       "\n",
       "       Top 10 Tequila Market  \n",
       "0                         No  \n",
       "1                         No  \n",
       "2                         No  \n",
       "3                         No  \n",
       "4                         No  \n",
       "...                      ...  \n",
       "10147                     No  \n",
       "10148                     No  \n",
       "10149                     No  \n",
       "10150                     No  \n",
       "10151                     No  \n",
       "\n",
       "[10152 rows x 21 columns]"
      ]
     },
     "execution_count": 182,
     "metadata": {},
     "output_type": "execute_result"
    }
   ],
   "source": [
    "clean_tequila_df"
   ]
  },
  {
   "cell_type": "markdown",
   "metadata": {},
   "source": [
    "##### Step 4G - Making Sure there are no logical inconsistencies "
   ]
  },
  {
   "cell_type": "code",
   "execution_count": null,
   "metadata": {},
   "outputs": [],
   "source": []
  },
  {
   "cell_type": "markdown",
   "metadata": {},
   "source": [
    "##### Step 5 - Saving clean_tequila_df as a CSV"
   ]
  },
  {
   "cell_type": "code",
   "execution_count": 186,
   "metadata": {},
   "outputs": [],
   "source": [
    "clean_tequila_df.to_csv('clean_tequila_data.csv', index=False)"
   ]
  },
  {
   "cell_type": "markdown",
   "metadata": {},
   "source": [
    "##### Some more Exploration:"
   ]
  },
  {
   "cell_type": "code",
   "execution_count": 196,
   "metadata": {},
   "outputs": [],
   "source": [
    "clean_tequila_df\n",
    "\n",
    "def split_dataframe_by_column(df, column_name):\n",
    "    \"\"\"\n",
    "    Splits a DataFrame into multiple DataFrames based on the unique values of the specified column.\n",
    "    \n",
    "    Parameters:\n",
    "    - df: the DataFrame to split.\n",
    "    - column_name: the name of the column to split by.\n",
    "    \n",
    "    Returns:\n",
    "    A dictionary with keys as unique values of the column and values as DataFrames.\n",
    "    \"\"\"\n",
    "    unique_values = df[column_name].unique()\n",
    "    return {value: df[df[column_name] == value] for value in unique_values}\n"
   ]
  },
  {
   "cell_type": "code",
   "execution_count": 220,
   "metadata": {},
   "outputs": [],
   "source": [
    "split_dfs = split_dataframe_by_column(clean_tequila_df, 'Market Type')\n",
    "\n",
    "# Access the resulting DataFrames\n",
    "free_market_df = split_dfs['Free Market']\n",
    "controlled_market_df = split_dfs['Controlled Market']\n",
    "unknown_market_df = split_dfs.get('Unknown')  # Use .get() to avoid KeyError if 'Unknown' does not exist\n"
   ]
  },
  {
   "cell_type": "code",
   "execution_count": 225,
   "metadata": {},
   "outputs": [
    {
     "name": "stdout",
     "output_type": "stream",
     "text": [
      "Free Market Accounts Sold missing percentage is 66.27\n",
      "Free Market Rate of Sale missing percentage is 66.27\n"
     ]
    }
   ],
   "source": [
    "#FREE MARKET\n",
    "free_market_df.isnull().sum()\n",
    "accounts_sold_missing_percentage = percentage_missing(free_market_df, 'Accounts Sold')\n",
    "print('Free Market Accounts Sold missing percentage is', accounts_sold_missing_percentage)\n",
    "\n",
    "rate_of_sales_missing_pecentage = percentage_missing(free_market_df,'Monthly Rate of Sales')\n",
    "print('Free Market Rate of Sale missing percentage is', rate_of_sales_missing_pecentage)"
   ]
  },
  {
   "cell_type": "code",
   "execution_count": 227,
   "metadata": {},
   "outputs": [
    {
     "name": "stdout",
     "output_type": "stream",
     "text": [
      "Controlled Market Accounts Sold missing percentage is 97.99\n",
      "Controlled Market Rate of Sale missing percentage is 97.99\n"
     ]
    }
   ],
   "source": [
    "#CONTROLLED MARKET\n",
    "controlled_market_df\n",
    "accounts_sold_missing_percentage = percentage_missing(controlled_market_df, 'Accounts Sold')\n",
    "print('Controlled Market Accounts Sold missing percentage is', accounts_sold_missing_percentage)\n",
    "\n",
    "rate_of_sales_missing_pecentage = percentage_missing(controlled_market_df,'Monthly Rate of Sales')\n",
    "print('Controlled Market Rate of Sale missing percentage is', rate_of_sales_missing_pecentage)"
   ]
  },
  {
   "cell_type": "code",
   "execution_count": 229,
   "metadata": {},
   "outputs": [
    {
     "name": "stdout",
     "output_type": "stream",
     "text": [
      "Unknown Market Accounts Sold missing percentage is 100.0\n",
      "Unknown Market Rate of Sale missing percentage is 100.0\n"
     ]
    }
   ],
   "source": [
    "# UNKNOWN MARKET TYPE\n",
    "accounts_sold_missing_percentage = percentage_missing(unknown_market_df, 'Accounts Sold')\n",
    "print('Unknown Market Accounts Sold missing percentage is', accounts_sold_missing_percentage)\n",
    "\n",
    "rate_of_sales_missing_pecentage = percentage_missing(unknown_market_df,'Monthly Rate of Sales')\n",
    "print('Unknown Market Rate of Sale missing percentage is', rate_of_sales_missing_pecentage)"
   ]
  }
 ],
 "metadata": {
  "kernelspec": {
   "display_name": "THE_ONE_env",
   "language": "python",
   "name": "the_one_env"
  },
  "language_info": {
   "codemirror_mode": {
    "name": "ipython",
    "version": 3
   },
   "file_extension": ".py",
   "mimetype": "text/x-python",
   "name": "python",
   "nbconvert_exporter": "python",
   "pygments_lexer": "ipython3",
   "version": "3.11.5"
  }
 },
 "nbformat": 4,
 "nbformat_minor": 2
}
